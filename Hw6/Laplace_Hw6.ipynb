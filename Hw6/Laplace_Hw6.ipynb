{
 "cells": [
  {
   "cell_type": "code",
   "execution_count": 1,
   "metadata": {},
   "outputs": [],
   "source": [
    "import numpy as np\n",
    "import matplotlib as mpl\n",
    "import matplotlib.pyplot as plt\n",
    "import time\n",
    "from IPython.display import clear_output\n",
    "%matplotlib inline"
   ]
  },
  {
   "cell_type": "markdown",
   "metadata": {},
   "source": [
    "---\n",
    "# Part 1"
   ]
  },
  {
   "cell_type": "markdown",
   "metadata": {},
   "source": [
    "set parameters"
   ]
  },
  {
   "cell_type": "code",
   "execution_count": 2,
   "metadata": {},
   "outputs": [],
   "source": [
    "NX    = 25\n",
    "NY    = 25\n",
    "XMIN  = 0\n",
    "XMAX  = 1\n",
    "YMIN  = 0\n",
    "YMAX  = 1\n",
    "NITER = 50  # max number of iterations"
   ]
  },
  {
   "cell_type": "markdown",
   "metadata": {},
   "source": [
    "Initialize the grids"
   ]
  },
  {
   "cell_type": "code",
   "execution_count": 3,
   "metadata": {},
   "outputs": [],
   "source": [
    "u = np.zeros(shape=(NX,NY))"
   ]
  },
  {
   "cell_type": "markdown",
   "metadata": {},
   "source": [
    "set initial conditions (assume 0 everywhere)"
   ]
  },
  {
   "cell_type": "code",
   "execution_count": 4,
   "metadata": {},
   "outputs": [],
   "source": [
    "def initial(u,nx,ny):\n",
    "    u[:,:] = 0\n",
    "    return u"
   ]
  },
  {
   "cell_type": "markdown",
   "metadata": {},
   "source": [
    "Boundary conditions"
   ]
  },
  {
   "cell_type": "code",
   "execution_count": 5,
   "metadata": {},
   "outputs": [],
   "source": [
    "def set_boundary_conditions(u,nx,ny):\n",
    "    u[:, ny-1] = 1\n",
    "    u[0, :]    = 0\n",
    "    u[:, 0]    = 0\n",
    "    u[nx-1, :] = 0\n",
    "    \n",
    "\n",
    "    #print(\"u is\\n\",u)\n",
    "    \"\"\"\n",
    "    Input: u[i][j]\n",
    "    \n",
    "    Output: u[i][j]\n",
    "    \n",
    "    B.C.: top    (y=1): u = 1\n",
    "          button (y=0): u = 0\n",
    "          left   (x=0): u = 0\n",
    "          right  (x=1): u = 0\n",
    "    \"\"\"\n",
    "\n",
    "    # TODO: set the boundary conditions here\n",
    "    \n",
    "    return u"
   ]
  },
  {
   "cell_type": "markdown",
   "metadata": {},
   "source": [
    "## Jacobi method\n",
    "Do one iteration"
   ]
  },
  {
   "cell_type": "code",
   "execution_count": 6,
   "metadata": {},
   "outputs": [],
   "source": [
    "def evolve_jacobi(u,nx,ny):\n",
    "    \n",
    "    \"\"\"\n",
    "    do one Jacobi iteration\n",
    "    \n",
    "    Inputs: u[size of NX][size of NY]\n",
    "    NX: number of points in x-axis\n",
    "    NY: number of points in y-axis\n",
    "    \n",
    "    Outputs: u\n",
    "    \n",
    "    \"\"\"\n",
    "\n",
    "    u = set_boundary_conditions(u, NX, NY)\n",
    "    uold = u.copy()\n",
    "    for i in range(1, nx-1):\n",
    "        for j in range(1, ny-1):\n",
    "            u[i][j] = 0.25*(uold[i+1][j] + uold[i-1][j] \n",
    "                            + uold[i][j+1] + uold[i][j-1])\n",
    "\n",
    "    return u"
   ]
  },
  {
   "cell_type": "markdown",
   "metadata": {},
   "source": [
    "Check convergence by comparing the differecne between u1 and u2"
   ]
  },
  {
   "cell_type": "code",
   "execution_count": 7,
   "metadata": {},
   "outputs": [],
   "source": [
    "def diff(u1,u2,nx,ny):\n",
    "    error = 0.0\n",
    "    for i in range(nx):\n",
    "        for j in range(ny):\n",
    "            error += abs(u1[i,j] - u2[i,j])\n",
    "    return error"
   ]
  },
  {
   "cell_type": "markdown",
   "metadata": {},
   "source": [
    "Start iterations"
   ]
  },
  {
   "cell_type": "code",
   "execution_count": 10,
   "metadata": {
    "scrolled": true
   },
   "outputs": [],
   "source": [
    "NX    = 10\n",
    "NY    = 10\n",
    "NITER = 50\n",
    "u = np.zeros(shape=(NX,NY))\n",
    "u = initial(u, NX, NY)\n",
    "errors = np.zeros(NITER)\n",
    "for n in range(NITER):\n",
    "    \n",
    "    plt.figure(1,figsize=(12,6), facecolor='white')\n",
    "    plt.subplot(121)\n",
    "    plt.title(\"N= {}\".format(n))\n",
    "    clear_output(wait=True)\n",
    "    \n",
    "    # make a copy of the u in the previous step\n",
    "    uold = u.copy()\n",
    "    \n",
    "    # do one iteration\n",
    "    u = evolve_jacobi(u, NX, NY)\n",
    "    \n",
    "    # check the difference\n",
    "    err = diff(uold,u, NX, NY)\n",
    "    errors[n] = err\n",
    "    \n",
    "    # plot the results\n",
    "plt.imshow(u.T,origin='lower',extent=[XMIN,XMAX,YMIN,YMAX],interpolation='none')\n",
    "plt.colorbar()\n",
    "plt.subplot(122)\n",
    "plt.plot(errors,'k-')\n",
    "plt.xlim([0,NITER+1])\n",
    "plt.xlabel(\"N\")\n",
    "plt.yscale('log')\n",
    "#time.sleep(0.0001)\n",
    "#plt.show()\n",
    "plt.tight_layout()\n",
    "plt.savefig('jacobi.png')\n",
    "plt.close()\n",
    "    "
   ]
  },
  {
   "cell_type": "markdown",
   "metadata": {},
   "source": [
    "---\n",
    "# Part 2"
   ]
  },
  {
   "cell_type": "markdown",
   "metadata": {},
   "source": [
    "## Gauss-Seidel method"
   ]
  },
  {
   "cell_type": "code",
   "execution_count": 7,
   "metadata": {},
   "outputs": [],
   "source": [
    "def evolve_gauss_seidel(u,nx,ny):\n",
    "    u = set_boundary_conditions(u, nx, ny)\n",
    "    uold = u.copy()\n",
    "    for i in range(1, nx-1):\n",
    "        for j in range(1, ny-1):\n",
    "            u[i][j] = 0.25*(u[i+1][j] + uold[i-1][j] \n",
    "                            + u[i][j+1] + uold[i][j-1])\n",
    "    \"\"\"\n",
    "    do one Gauss-Seidel iteration\n",
    "    \"\"\"\n",
    "    return u"
   ]
  },
  {
   "cell_type": "code",
   "execution_count": 25,
   "metadata": {},
   "outputs": [],
   "source": [
    "#TODO: Visualize the results here\n",
    "NX    = 100\n",
    "NY    = 100\n",
    "NITER = 100\n",
    "u = np.zeros(shape=(NX,NY))\n",
    "u = initial(u, NX, NY)\n",
    "errors = np.zeros(NITER)\n",
    "\n",
    "#u = niter_function(u, NX, NY, NITER, 'gs')\n",
    "\n",
    "for n in range(NITER):\n",
    "    \n",
    "    # make a copy of the u in the previous step\n",
    "    uold = u.copy()\n",
    "    \n",
    "    # do one iteration\n",
    "    u = evolve_gauss_seidel(u, NX, NY)\n",
    "    \n",
    "    # check the difference\n",
    "    err = 0.0\n",
    "    err = diff(uold,u, NX, NY)\n",
    "    errors[n] = err\n",
    "    \n",
    "# plot the results    \n",
    "plt.figure(1,figsize=(12,6), facecolor='white')\n",
    "plt.subplot(121)\n",
    "plt.title(\"N= {}\".format(n))\n",
    "clear_output(wait=True)\n",
    "plt.imshow(u.T,origin='lower',extent=[XMIN,XMAX,YMIN,YMAX],interpolation='none')\n",
    "plt.colorbar()\n",
    "plt.subplot(122)\n",
    "plt.plot(errors,'k-')\n",
    "plt.xlim([0,NITER+1])\n",
    "plt.xlabel(\"N\")\n",
    "plt.yscale('log')\n",
    "plt.tight_layout()\n",
    "#time.sleep(0.0001)\n",
    "plt.savefig('gs.png')\n",
    "plt.close()"
   ]
  },
  {
   "cell_type": "markdown",
   "metadata": {},
   "source": [
    "---\n",
    "# Part 3"
   ]
  },
  {
   "cell_type": "markdown",
   "metadata": {},
   "source": [
    "## Successive over-relax method:\n",
    "\n",
    "w < 1 : under-relaxation\n",
    "w = 1 : Gauss-Seidel method\n",
    "w > 1 : over-relaxation"
   ]
  },
  {
   "cell_type": "code",
   "execution_count": 9,
   "metadata": {},
   "outputs": [],
   "source": [
    "def sor(w,u,nx,ny):\n",
    "    u = set_boundary_conditions(u, nx, ny)\n",
    "    uold = u.copy()\n",
    "    for i in range(1, nx-1):\n",
    "        for j in range(1, ny-1):\n",
    "            ug = evolve_gauss_seidel(u, nx, ny)\n",
    "            u[i][j] = (1-w)*uold[i][j] + w*ug[i][j]\n",
    "    \"\"\"\n",
    "    do one Gauss-Seidel iteration\n",
    "    \"\"\"\n",
    "    return u"
   ]
  },
  {
   "cell_type": "code",
   "execution_count": 20,
   "metadata": {},
   "outputs": [
    {
     "ename": "KeyboardInterrupt",
     "evalue": "",
     "output_type": "error",
     "traceback": [
      "\u001b[0;31m---------------------------------------------------------------------------\u001b[0m",
      "\u001b[0;31mKeyboardInterrupt\u001b[0m                         Traceback (most recent call last)",
      "Input \u001b[0;32mIn [20]\u001b[0m, in \u001b[0;36m<cell line: 9>\u001b[0;34m()\u001b[0m\n\u001b[1;32m     12\u001b[0m uold \u001b[38;5;241m=\u001b[39m u\u001b[38;5;241m.\u001b[39mcopy()\n\u001b[1;32m     14\u001b[0m \u001b[38;5;66;03m# do one iteration\u001b[39;00m\n\u001b[0;32m---> 15\u001b[0m u \u001b[38;5;241m=\u001b[39m \u001b[43msor\u001b[49m\u001b[43m(\u001b[49m\u001b[43mw\u001b[49m\u001b[43m,\u001b[49m\u001b[43m \u001b[49m\u001b[43mu\u001b[49m\u001b[43m,\u001b[49m\u001b[43m \u001b[49m\u001b[43mNX\u001b[49m\u001b[43m,\u001b[49m\u001b[43m \u001b[49m\u001b[43mNY\u001b[49m\u001b[43m)\u001b[49m\n\u001b[1;32m     17\u001b[0m \u001b[38;5;66;03m# check the difference\u001b[39;00m\n\u001b[1;32m     18\u001b[0m err \u001b[38;5;241m=\u001b[39m diff(uold,u, NX, NY)\n",
      "Input \u001b[0;32mIn [9]\u001b[0m, in \u001b[0;36msor\u001b[0;34m(w, u, nx, ny)\u001b[0m\n\u001b[1;32m      4\u001b[0m \u001b[38;5;28;01mfor\u001b[39;00m i \u001b[38;5;129;01min\u001b[39;00m \u001b[38;5;28mrange\u001b[39m(\u001b[38;5;241m1\u001b[39m, nx\u001b[38;5;241m-\u001b[39m\u001b[38;5;241m1\u001b[39m):\n\u001b[1;32m      5\u001b[0m     \u001b[38;5;28;01mfor\u001b[39;00m j \u001b[38;5;129;01min\u001b[39;00m \u001b[38;5;28mrange\u001b[39m(\u001b[38;5;241m1\u001b[39m, ny\u001b[38;5;241m-\u001b[39m\u001b[38;5;241m1\u001b[39m):\n\u001b[0;32m----> 6\u001b[0m         ug \u001b[38;5;241m=\u001b[39m \u001b[43mevolve_gauss_seidel\u001b[49m\u001b[43m(\u001b[49m\u001b[43mu\u001b[49m\u001b[43m,\u001b[49m\u001b[43m \u001b[49m\u001b[43mnx\u001b[49m\u001b[43m,\u001b[49m\u001b[43m \u001b[49m\u001b[43mny\u001b[49m\u001b[43m)\u001b[49m\n\u001b[1;32m      7\u001b[0m         u[i][j] \u001b[38;5;241m=\u001b[39m (\u001b[38;5;241m1\u001b[39m\u001b[38;5;241m-\u001b[39mw)\u001b[38;5;241m*\u001b[39muold[i][j] \u001b[38;5;241m+\u001b[39m w\u001b[38;5;241m*\u001b[39mug[i][j]\n\u001b[1;32m      8\u001b[0m \u001b[38;5;124;03m\"\"\"\u001b[39;00m\n\u001b[1;32m      9\u001b[0m \u001b[38;5;124;03mdo one Gauss-Seidel iteration\u001b[39;00m\n\u001b[1;32m     10\u001b[0m \u001b[38;5;124;03m\"\"\"\u001b[39;00m\n",
      "Input \u001b[0;32mIn [7]\u001b[0m, in \u001b[0;36mevolve_gauss_seidel\u001b[0;34m(u, nx, ny)\u001b[0m\n\u001b[1;32m      4\u001b[0m \u001b[38;5;28;01mfor\u001b[39;00m i \u001b[38;5;129;01min\u001b[39;00m \u001b[38;5;28mrange\u001b[39m(\u001b[38;5;241m1\u001b[39m, nx\u001b[38;5;241m-\u001b[39m\u001b[38;5;241m1\u001b[39m):\n\u001b[1;32m      5\u001b[0m     \u001b[38;5;28;01mfor\u001b[39;00m j \u001b[38;5;129;01min\u001b[39;00m \u001b[38;5;28mrange\u001b[39m(\u001b[38;5;241m1\u001b[39m, ny\u001b[38;5;241m-\u001b[39m\u001b[38;5;241m1\u001b[39m):\n\u001b[0;32m----> 6\u001b[0m         u[i][j] \u001b[38;5;241m=\u001b[39m \u001b[38;5;241m0.25\u001b[39m\u001b[38;5;241m*\u001b[39m(u[i\u001b[38;5;241m+\u001b[39m\u001b[38;5;241m1\u001b[39m][j] \u001b[38;5;241m+\u001b[39m \u001b[43muold\u001b[49m\u001b[43m[\u001b[49m\u001b[43mi\u001b[49m\u001b[38;5;241;43m-\u001b[39;49m\u001b[38;5;241;43m1\u001b[39;49m\u001b[43m]\u001b[49m[j] \n\u001b[1;32m      7\u001b[0m                         \u001b[38;5;241m+\u001b[39m u[i][j\u001b[38;5;241m+\u001b[39m\u001b[38;5;241m1\u001b[39m] \u001b[38;5;241m+\u001b[39m uold[i][j\u001b[38;5;241m-\u001b[39m\u001b[38;5;241m1\u001b[39m])\n\u001b[1;32m      8\u001b[0m \u001b[38;5;124;03m\"\"\"\u001b[39;00m\n\u001b[1;32m      9\u001b[0m \u001b[38;5;124;03mdo one Gauss-Seidel iteration\u001b[39;00m\n\u001b[1;32m     10\u001b[0m \u001b[38;5;124;03m\"\"\"\u001b[39;00m\n\u001b[1;32m     11\u001b[0m \u001b[38;5;28;01mreturn\u001b[39;00m u\n",
      "\u001b[0;31mKeyboardInterrupt\u001b[0m: "
     ]
    }
   ],
   "source": [
    "#TODO: Visualize the results here\n",
    "NX    = 100\n",
    "NY    = 100\n",
    "NITER = 100\n",
    "u = np.zeros(shape=(NX,NY))\n",
    "u = initial(u, NX, NY)\n",
    "w = 1.2\n",
    "errors = np.zeros(NITER)\n",
    "for n in range(NITER):\n",
    "\n",
    "    # make a copy of the u in the previous step\n",
    "    uold = u.copy()\n",
    "    \n",
    "    # do one iteration\n",
    "    u = sor(w, u, NX, NY)\n",
    "    \n",
    "    # check the difference\n",
    "    err = diff(uold,u, NX, NY)\n",
    "    errors[n] = err\n",
    "    \n",
    "# plot the results\n",
    "plt.figure(1,figsize=(12,6), facecolor='white')\n",
    "plt.subplot(121)\n",
    "plt.title(\"N= {}\".format(NITER))\n",
    "clear_output(wait=True)\n",
    "plt.imshow(u.T,origin='lower',extent=[XMIN,XMAX,YMIN,YMAX],interpolation='none')\n",
    "plt.colorbar()\n",
    "plt.subplot(122)\n",
    "plt.plot(errors,'k-')\n",
    "plt.xlim([0,NITER+1])\n",
    "plt.xlabel(\"N\")\n",
    "plt.yscale('log')\n",
    "plt.tight_layout()\n",
    "plt.savefig('sor.png')\n",
    "plt.close()\n",
    "    "
   ]
  },
  {
   "cell_type": "markdown",
   "metadata": {},
   "source": [
    "---\n",
    "# Part 4"
   ]
  },
  {
   "cell_type": "markdown",
   "metadata": {},
   "source": [
    "## Multi-grid method"
   ]
  },
  {
   "cell_type": "code",
   "execution_count": 9,
   "metadata": {},
   "outputs": [],
   "source": [
    "NX1   = 25\n",
    "NY1   = 25\n",
    "NX2   = 50\n",
    "NY2   = 50\n",
    "NX3   = 100\n",
    "NY3   = 100\n",
    "NITER = 100\n",
    "u1 = np.zeros(shape=(NX1,NY1))\n",
    "u2 = np.zeros(shape=(NX2,NY2))\n",
    "u3 = np.zeros(shape=(NX3,NY3))\n",
    "XMIN  = 0\n",
    "XMAX  = 1\n",
    "YMIN  = 0\n",
    "YMAX  = 1"
   ]
  },
  {
   "cell_type": "code",
   "execution_count": 46,
   "metadata": {},
   "outputs": [],
   "source": [
    "def restriction(u_fine,u_coarser,NXC,NYC):\n",
    "    \"\"\"\n",
    "    from fine grid to coarser grid.\n",
    "    Assume the gird size is different by a factor of 2\n",
    "    \n",
    "    update the coarser grid based on information of the fine grid\n",
    "    \n",
    "    Inputs:\n",
    "    \n",
    "    u_fine: size of 2 NXC and 2 NYC\n",
    "    u_coarser: size of NXC and NYC\n",
    "    \n",
    "    \n",
    "    Outputs:\n",
    "    \n",
    "    u: size of NXC and NYC\n",
    "    \n",
    "    \n",
    "    \"\"\"\n",
    "    a = np.zeros(shape=(2*NXC,2*NYC)) # inputted fine matrix\n",
    "    a = u_fine.copy()\n",
    "    b = np.zeros(shape=(2*NXC,NYC))\n",
    "    A = np.zeros(shape=(NXC,NYC)) # output, coarser one\n",
    "    uout = np.zeros(shape=(NXC,NYC))\n",
    "    \n",
    "    for i in range(2*NXC):\n",
    "        for j in range(2*NYC):\n",
    "            if j % 2 == 0:\n",
    "                k = int(j/2)\n",
    "                #print(k)\n",
    "                b[i][k] = a[i][j] + a[i][j+1]\n",
    "    \n",
    "    for j in range(NYC):\n",
    "        for i in range(2*NXC):\n",
    "            if i % 2 ==0:\n",
    "                k = int(i/2)\n",
    "                A[k][j] += b[i][j] + b[i+1][j]\n",
    "                A[k][j] = 0.25*A[k][j]\n",
    "                \n",
    "    uout = A.copy()\n",
    "    #print(f\"uout is {uout}\")\n",
    "    \n",
    "    return uout  "
   ]
  },
  {
   "cell_type": "code",
   "execution_count": 47,
   "metadata": {},
   "outputs": [],
   "source": [
    "def prolongation(u_fine, u_coarser,NXC, NYC):\n",
    "    \"\"\"\n",
    "    from coarser grid to fine grid\n",
    "    \n",
    "    update the fine grid based on information of the coarser grid\n",
    "    \n",
    "    Inputs:\n",
    "    \n",
    "    u_fine: size of 2 NXC and 2 NYC\n",
    "    u_coarser: size of NXC and NYC\n",
    "    \n",
    "    \n",
    "    Outputs:\n",
    "    \n",
    "    u: size of 2 NXC and 2 NYC\n",
    "    \n",
    "    \"\"\"\n",
    "    a = np.zeros(shape=(NXC,NYC)) # inputted coarser matrix\n",
    "    a = u_coarser.copy()\n",
    "    A = np.zeros(shape=(2*NXC,2*NYC)) # output, fine one\n",
    "    uout = np.zeros(shape=(2*NXC,2*NYC))\n",
    "    \n",
    "    for i in range(NXC):\n",
    "        for j in range(NYC):\n",
    "            i2 = 2*i\n",
    "            j2 = 2*j\n",
    "            A[i2][j2]     = a[i][j]\n",
    "            A[i2][j2+1]   = a[i][j]\n",
    "            A[i2+1][j2]   = a[i][j]\n",
    "            A[i2+1][j2+1] = a[i][j] \n",
    "    uout = A.copy()\n",
    "    \n",
    "    return uout"
   ]
  },
  {
   "cell_type": "code",
   "execution_count": 48,
   "metadata": {},
   "outputs": [],
   "source": [
    "#TODO: To the full multigird cycle here and Visualize the results"
   ]
  },
  {
   "cell_type": "code",
   "execution_count": 49,
   "metadata": {},
   "outputs": [],
   "source": [
    "def niter_function(u, nx, ny, n, step):\n",
    "    errors = np.zeros(n)\n",
    "    #uold = u.copy()\n",
    "    for i in range(n):\n",
    "        uold = u.copy()\n",
    "        err = 0\n",
    "        u = evolve_gauss_seidel(u, nx, ny)\n",
    "        err = diff(uold, u, nx, ny)\n",
    "        errors[i] = err\n",
    "    \n",
    "    plt.figure(1, figsize=(12,6), facecolor='white')\n",
    "    plt.subplot(121)\n",
    "    clear_output(wait=True)\n",
    "    plt.title(\"N= {}\".format(step))\n",
    "    plt.imshow(u.T,origin='lower',extent=[XMIN,XMAX,YMIN,YMAX],interpolation='none')\n",
    "    plt.colorbar()\n",
    "    \n",
    "    plt.subplot(122)\n",
    "    plt.plot(errors,'k-')\n",
    "    plt.xlim([0,n+1])\n",
    "    plt.xlabel(\"N\")\n",
    "    plt.yscale('log')\n",
    "    plt.tight_layout()\n",
    "    plt.savefig('n={}'.format(step))\n",
    "    plt.close()\n",
    "    \n",
    "    uout = u.copy()\n",
    "    return uout"
   ]
  },
  {
   "cell_type": "code",
   "execution_count": 55,
   "metadata": {
    "scrolled": false
   },
   "outputs": [
    {
     "name": "stdout",
     "output_type": "stream",
     "text": [
      "Done!\n"
     ]
    }
   ],
   "source": [
    "NITER = 100\n",
    "u1 = initial(u1, NX1, NY1)\n",
    "u2 = initial(u2, NX2, NY2)\n",
    "u3 = initial(u3, NX3, NY3)\n",
    "# full multigrid: u1, u2, u1, u2, u3, u2, u1, u2, u3\n",
    "\n",
    "#print(f\"u1 = {u1}\")\n",
    "u1 = set_boundary_conditions(u1, NX1, NY1)\n",
    "'''\n",
    "plt.figure(1,figsize=(12,5))\n",
    "clear_output(wait=True)\n",
    "plt.imshow(u1.T,origin='lower',extent=[XMIN,XMAX,YMIN,YMAX],interpolation='none')\n",
    "plt.colorbar()\n",
    "plt.savefig('u1 boundary.png')\n",
    "plt.close()\n",
    "'''\n",
    "u1 = niter_function(u1, NX1, NY1, NITER, 1)\n",
    "#print(f\"u1 = {u1}\")\n",
    "\n",
    "u2 = set_boundary_conditions(u2, NX2, NY2)\n",
    "'''\n",
    "plt.figure(1,figsize=(12,5))\n",
    "clear_output(wait=True)\n",
    "plt.imshow(u2.T,origin='lower',extent=[XMIN,XMAX,YMIN,YMAX],interpolation='none')\n",
    "plt.colorbar()\n",
    "plt.savefig('u2 boundary.png')\n",
    "plt.close()\n",
    "'''\n",
    "\n",
    "u2 = prolongation(u2, u1, NX1, NY1)\n",
    "'''\n",
    "plt.figure(1,figsize=(12,5))\n",
    "clear_output(wait=True)\n",
    "plt.imshow(u2.T,origin='lower',extent=[XMIN,XMAX,YMIN,YMAX],interpolation='none')\n",
    "plt.colorbar()\n",
    "plt.savefig('check.png')\n",
    "'''\n",
    "#print(f\"u2= {u2}\")\n",
    "u2 = niter_function(u2, NX2, NY2, NITER, 2)\n",
    "\n",
    "u1 = restriction(u2, u1, NX1, NY1)\n",
    "u1 = niter_function(u1, NX1, NY1, NITER, 3)\n",
    "\n",
    "u2 = prolongation(u2, u1, NX1, NY1)\n",
    "u2 = niter_function(u2, NX2, NY2, NITER, 4)\n",
    "\n",
    "\n",
    "u3 = set_boundary_conditions(u3, NX3, NY3)\n",
    "'''\n",
    "plt.figure(1,figsize=(12,5))\n",
    "clear_output(wait=True)\n",
    "plt.imshow(u3.T,origin='lower',extent=[XMIN,XMAX,YMIN,YMAX],interpolation='none')\n",
    "plt.colorbar()\n",
    "plt.savefig('u3 boundary.png')\n",
    "plt.close()\n",
    "'''\n",
    "\n",
    "u3 = prolongation(u3, u2, NX2, NY2)\n",
    "u3 = niter_function(u3, NX3, NY3, NITER, 5)\n",
    "\n",
    "u2 = restriction(u3, u2, NX2, NY2)\n",
    "u2 = niter_function(u2, NX2, NY2, NITER, 6)\n",
    "\n",
    "u1 = restriction(u2, u1, NX1, NY1)\n",
    "u1 = niter_function(u1, NX1, NY1, NITER, 7)\n",
    "\n",
    "u2 = prolongation(u2, u1, NX1, NY1)\n",
    "u2 = niter_function(u2, NX2, NY2, NITER, 8)\n",
    "\n",
    "u3 = prolongation(u3, u2, NX2, NY2)\n",
    "u3 = niter_function(u3, NX3, NY3, NITER, 9)\n",
    "\n",
    "print('Done!')"
   ]
  },
  {
   "cell_type": "code",
   "execution_count": null,
   "metadata": {},
   "outputs": [],
   "source": []
  },
  {
   "cell_type": "code",
   "execution_count": null,
   "metadata": {},
   "outputs": [],
   "source": []
  }
 ],
 "metadata": {
  "kernelspec": {
   "display_name": "Python 3 (ipykernel)",
   "language": "python",
   "name": "python3"
  },
  "language_info": {
   "codemirror_mode": {
    "name": "ipython",
    "version": 3
   },
   "file_extension": ".py",
   "mimetype": "text/x-python",
   "name": "python",
   "nbconvert_exporter": "python",
   "pygments_lexer": "ipython3",
   "version": "3.9.5"
  }
 },
 "nbformat": 4,
 "nbformat_minor": 4
}
